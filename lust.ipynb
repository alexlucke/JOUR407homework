{
 "cells": [
  {
   "cell_type": "code",
   "execution_count": 1,
   "metadata": {
    "collapsed": true
   },
   "outputs": [],
   "source": [
    "import agate"
   ]
  },
  {
   "cell_type": "code",
   "execution_count": 2,
   "metadata": {
    "collapsed": false
   },
   "outputs": [],
   "source": [
    "leaks = agate.Table.from_csv('lust1.csv')"
   ]
  },
  {
   "cell_type": "code",
   "execution_count": 3,
   "metadata": {
    "collapsed": false
   },
   "outputs": [
    {
     "name": "stdout",
     "output_type": "stream",
     "text": [
      "|--------------------------------------+---------------|\n",
      "|  column_names                        | column_types  |\n",
      "|--------------------------------------+---------------|\n",
      "|  SPILLNO-------                      | Text          |\n",
      "|  S                                   | Text          |\n",
      "|  OWNCO--------------------           | Text          |\n",
      "|  OWNSTREET-----------                | Text          |\n",
      "|  OWNCITY-------------                | Text          |\n",
      "|  OS                                  | Text          |\n",
      "|  OZIP                                | Text          |\n",
      "|  TY                                  | Number        |\n",
      "|  DIDATE----                          | Date          |\n",
      "|  SPLOC     ------------------------- | Text          |\n",
      "|  SPCITY-------------------           | Text          |\n",
      "|  SPCOUN-------------------           | Text          |\n",
      "|  MATERIAL----------------------      | Text          |\n",
      "|  SFM_ID--                            | Text          |\n",
      "|  FAC_NAME-----------------           | Text          |\n",
      "|--------------------------------------+---------------|\n",
      "\n"
     ]
    }
   ],
   "source": [
    "print(leaks)"
   ]
  },
  {
   "cell_type": "code",
   "execution_count": 4,
   "metadata": {
    "collapsed": false
   },
   "outputs": [
    {
     "name": "stdout",
     "output_type": "stream",
     "text": [
      "1226\n"
     ]
    }
   ],
   "source": [
    "still_leaking = leaks.where(lambda row: row['S'] != \"5.0\")\n",
    "still_leaking = still_leaking.where(lambda row: row['S'] != \"6.0\")\n",
    "still_leaking = still_leaking.where(lambda row: row['S'] != \"7.0\")\n",
    "still_leaking = still_leaking.where(lambda row: row['S'] != \"8.0\")\n",
    "still_leaking = still_leaking.where(lambda row: row['S'] != \"R\")\n",
    "still_leaking = still_leaking.where(lambda row: row['S'] != \"V\")\n",
    "print(len(still_leaking.rows))"
   ]
  },
  {
   "cell_type": "code",
   "execution_count": 5,
   "metadata": {
    "collapsed": false
   },
   "outputs": [
    {
     "name": "stdout",
     "output_type": "stream",
     "text": [
      "|--------------------------------------+---------------|\n",
      "|  column_names                        | column_types  |\n",
      "|--------------------------------------+---------------|\n",
      "|  SPILLNO-------                      | Text          |\n",
      "|  S                                   | Text          |\n",
      "|  OWNCO--------------------           | Text          |\n",
      "|  OWNSTREET-----------                | Text          |\n",
      "|  OWNCITY-------------                | Text          |\n",
      "|  OS                                  | Text          |\n",
      "|  OZIP                                | Text          |\n",
      "|  TY                                  | Number        |\n",
      "|  DIDATE----                          | Date          |\n",
      "|  SPLOC     ------------------------- | Text          |\n",
      "|  SPCITY-------------------           | Text          |\n",
      "|  SPCOUN-------------------           | Text          |\n",
      "|  MATERIAL----------------------      | Text          |\n",
      "|  SFM_ID--                            | Text          |\n",
      "|  FAC_NAME-----------------           | Text          |\n",
      "|--------------------------------------+---------------|\n",
      "\n"
     ]
    }
   ],
   "source": [
    "print(still_leaking)"
   ]
  },
  {
   "cell_type": "code",
   "execution_count": 6,
   "metadata": {
    "collapsed": false
   },
   "outputs": [],
   "source": [
    "by_OWNCO = still_leaking.group_by('OWNCO--------------------')"
   ]
  },
  {
   "cell_type": "code",
   "execution_count": 7,
   "metadata": {
    "collapsed": false
   },
   "outputs": [
    {
     "name": "stdout",
     "output_type": "stream",
     "text": [
      "871\n"
     ]
    }
   ],
   "source": [
    "print(len(by_OWNCO))"
   ]
  },
  {
   "cell_type": "code",
   "execution_count": 8,
   "metadata": {
    "collapsed": true
   },
   "outputs": [],
   "source": [
    "leak_totals = by_OWNCO.aggregate([\n",
    " ('S', agate.Length())\n",
    "])"
   ]
  },
  {
   "cell_type": "code",
   "execution_count": 9,
   "metadata": {
    "collapsed": false
   },
   "outputs": [
    {
     "name": "stdout",
     "output_type": "stream",
     "text": [
      "|----------------------------+------|\n",
      "|  OWNCO-------------------- |   S  |\n",
      "|----------------------------+------|\n",
      "|                            | 109  |\n",
      "|  UNKNOWN                   |  63  |\n",
      "|  BURLINGTON NORTHERN RR    |  15  |\n",
      "|  UNK                       |  10  |\n",
      "|  UPRR                      |   8  |\n",
      "|  BENSON 66 SERVICE         |   8  |\n",
      "|  ORPHAN UST                |   7  |\n",
      "|  BOSSELMAN INC             |   6  |\n",
      "|  OFFUTT A F B              |   6  |\n",
      "|  BNSF RAILWAY CO           |   6  |\n",
      "|  CITY OF OMAHA             |   5  |\n",
      "|  BENSON 66                 |   5  |\n",
      "|  CONTEMPORARY INDUSTRIES   |   5  |\n",
      "|  FARMERS UNION COOP        |   5  |\n",
      "|  CASEYS GENERAL STORES     |   4  |\n",
      "|  FARMERS COOP ASSN         |   4  |\n",
      "|  RITEWAY OIL & GAS CO INC  |   4  |\n",
      "|  ARMY CORPS OF ENGINEERS   |   4  |\n",
      "|  ORPHAN TANKS              |   4  |\n",
      "|  WHITEHEAD OIL CO          |   4  |\n",
      "|  ...                       | ...  |\n",
      "|----------------------------+------|\n"
     ]
    }
   ],
   "source": [
    "leak_totals.order_by('S', reverse=True).print_table(max_rows=20)"
   ]
  },
  {
   "cell_type": "code",
   "execution_count": null,
   "metadata": {
    "collapsed": true
   },
   "outputs": [],
   "source": []
  }
 ],
 "metadata": {
  "kernelspec": {
   "display_name": "Python 3",
   "language": "python",
   "name": "python3"
  },
  "language_info": {
   "codemirror_mode": {
    "name": "ipython",
    "version": 3
   },
   "file_extension": ".py",
   "mimetype": "text/x-python",
   "name": "python",
   "nbconvert_exporter": "python",
   "pygments_lexer": "ipython3",
   "version": "3.5.1"
  }
 },
 "nbformat": 4,
 "nbformat_minor": 0
}
